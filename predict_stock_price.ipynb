{
 "cells": [
  {
   "cell_type": "code",
   "execution_count": 2,
   "metadata": {
    "collapsed": true
   },
   "outputs": [],
   "source": [
    "import numpy as np\n",
    "import pandas as pd\n",
    "from collections import deque\n",
    "import random\n",
    "import time"
   ]
  },
  {
   "cell_type": "code",
   "execution_count": 4,
   "outputs": [
    {
     "name": "stdout",
     "output_type": "stream",
     "text": [
      "60 - SEQ - 3 - PRED1610805754\n"
     ]
    }
   ],
   "source": [
    "SEQ_LEN = 60\n",
    "FUTURE_PERIOD_PREDICT = 3\n",
    "STOCK_TO_PREDICT = 'sh500_day'\n",
    "EPOCHS = 50\n",
    "BATCH_SIZE = 64\n",
    "NAME = f'{SEQ_LEN} - SEQ - {FUTURE_PERIOD_PREDICT} - PRED{int(time.time())}'\n",
    "print(NAME)"
   ],
   "metadata": {
    "collapsed": false,
    "pycharm": {
     "name": "#%%\n"
    }
   }
  },
  {
   "cell_type": "code",
   "execution_count": 5,
   "outputs": [],
   "source": [
    "def signal(current, future):\n",
    "    if future/current - 1 >= 0.01:\n",
    "        return True\n",
    "    else:\n",
    "        return False"
   ],
   "metadata": {
    "collapsed": false,
    "pycharm": {
     "name": "#%%\n"
    }
   }
  },
  {
   "cell_type": "code",
   "execution_count": 8,
   "outputs": [],
   "source": [
    "main_df = pd.DataFrame()\n",
    "stocks = ['000001.SS', '399001.SZ', 'nasdaq']\n"
   ],
   "metadata": {
    "collapsed": false,
    "pycharm": {
     "name": "#%%\n"
    }
   }
  },
  {
   "cell_type": "code",
   "execution_count": 14,
   "outputs": [
    {
     "name": "stdout",
     "output_type": "stream",
     "text": [
      "name: 000001.SS\n",
      "Lines: 5213\n",
      "name: 399001.SZ\n",
      "Lines: 5213\n",
      "name: nasdaq\n",
      "Lines: 5284\n"
     ]
    }
   ],
   "source": [
    "for stock in stocks:\n",
    "    print('name:', stock)\n",
    "    df = pd.read_csv(f'{stock}.csv', names=['Date',\n",
    "                                              'Open', 'High', 'Low',\n",
    "                                              'Close', 'Adj Close',\n",
    "                                              'Volume'])\n",
    "    print('Lines:', df.shape[0])\n",
    "    df.rename(columns = {'Close': f'{stock}_close', 'Volume': f'{stock}_volume'}, inplace=True)\n",
    "    df.set_index('Date', inplace=True)\n",
    "    df = df[[f'{stock}_close', f'{stock}_volume']]\n",
    "\n",
    "    if main_df.empty == True:\n",
    "        main_df = df\n",
    "    else:\n",
    "        main_df = main_df.merge(df, left_index=True, right_index=True, how='outer')\n",
    "main_df.dropna(inplace=True)\n"
   ],
   "metadata": {
    "collapsed": false,
    "pycharm": {
     "name": "#%%\n"
    }
   }
  },
  {
   "cell_type": "code",
   "execution_count": null,
   "outputs": [],
   "source": [
    "\n"
   ],
   "metadata": {
    "collapsed": false,
    "pycharm": {
     "name": "#%%\n"
    }
   }
  }
 ],
 "metadata": {
  "kernelspec": {
   "display_name": "Python 3",
   "language": "python",
   "name": "python3"
  },
  "language_info": {
   "codemirror_mode": {
    "name": "ipython",
    "version": 2
   },
   "file_extension": ".py",
   "mimetype": "text/x-python",
   "name": "python",
   "nbconvert_exporter": "python",
   "pygments_lexer": "ipython2",
   "version": "2.7.6"
  }
 },
 "nbformat": 4,
 "nbformat_minor": 0
}